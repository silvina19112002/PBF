{
  "nbformat": 4,
  "nbformat_minor": 0,
  "metadata": {
    "colab": {
      "provenance": []
    },
    "kernelspec": {
      "name": "python3",
      "display_name": "Python 3"
    },
    "language_info": {
      "name": "python"
    }
  },
  "cells": [
    {
      "cell_type": "markdown",
      "source": [
        "# Nama: Silvina Rizqy Nur Auliya\n",
        "\n",
        "# NIM: 121450089\n",
        "\n",
        "# Prodi: Sains Data\n",
        "\n",
        "# Kelas: RC"
      ],
      "metadata": {
        "id": "zpLcej7AyLMc"
      }
    },
    {
      "cell_type": "markdown",
      "source": [
        "# 1. Jelaskan menggunakan tabel mengenai kelebihan dan kekurangan paradigma procedural dibandingkan dengan object oriented (minimal 3) !"
      ],
      "metadata": {
        "id": "X6eDc-2NdJ5Z"
      }
    },
    {
      "cell_type": "markdown",
      "source": [
        "| Kelebihan Paradigma Procedural | Kekurangan Paradigma Procedural   | \n",
        "| ------ | --- | \n",
        "| Lebih mudah dipahami dan dipelajari bagi pemula     | Kurang fleksibel dan tidak mudah dalam melakukan perubahan serta pemeliharaan kode   | \n",
        "| Struktur kode lebih jelas dan terpisah      | Kurang cocok untuk proyek besar dan kompleks   | \n",
        "| Lebih efisien dalam hal penggunaan memori      | Lebih sulit untuk memanagement data dan hubungan antar-fungsi | \n",
        "\n",
        "\n"
      ],
      "metadata": {
        "id": "eWKHmFjLjo4J"
      }
    },
    {
      "cell_type": "markdown",
      "source": [
        "| Kelebihan Object Oriented | Kekurangan Object Oriented   | \n",
        "| ------ | --- | \n",
        "| Lebih mudah untuk memahami dan memelihara kode dalam jangka panjang     | Lebih sulit untuk dipahami dan dipelajari bagi pemula   | \n",
        "| Lebih cocok untuk proyek besar dan kompleks      | Lebih banyak overhead dalam hal penggunaan memori   | \n",
        "| Lebih efisien dalam melakukan perubahan dan pemeliharaan kode      | Struktur kode lebih kompleks dan tidak terpisah seperti paradigma procedural | \n",
        "\n"
      ],
      "metadata": {
        "id": "6z5gdju3qFhe"
      }
    },
    {
      "cell_type": "markdown",
      "source": [
        "# 2. Jelaskan menggunakan tabel mengenai kelebihan dan kekurangan paradigma object oriented dibandingkan dengan functional (minimal 3) !"
      ],
      "metadata": {
        "id": "v_VqkcoPdQCJ"
      }
    },
    {
      "cell_type": "markdown",
      "source": [
        "| Kelebihan Paradigma Object Oriented | Kekurangan Paradigma Object Oriented  | \n",
        "| ------ | --- | \n",
        "| Model yang lebih baik untuk memodelkan dunia nyata dan membuat abstraksi dari kenyataan     | Lebih sulit untuk dipahami dan dipelajari oleh pemula   | \n",
        "| Lebih mudah dalam pemeliharaan kode dan pengembangan aplikasi besar      | Bisa menjadi over-engineered dan kompleks untuk masalah sederhana   | \n",
        "| Konsep inheritance dan polymorphism membuat reusabilitas kode lebih mudah      | Dapat menimbulkan ketergantungan antar class yang tidak perlu | \n",
        "| Konsep class membuat pembagian tugas dan pengembangan aplikasi menjadi lebih terstruktur      | Debugging dapat menjadi lebih sulit karena interaksi antar objek | \n"
      ],
      "metadata": {
        "id": "TntSwmaHYekk"
      }
    },
    {
      "cell_type": "markdown",
      "source": [
        "| Kelebihan Paradigma Functional | Kekurangan Paradigma Functional  | \n",
        "| ------ | --- | \n",
        "| Lebih mudah dipahami dan dipelajari oleh pemula     | Lebih sulit untuk memodelkan dunia nyata   | \n",
        "| Konsep dasar yang sederhana membuat aplikasi lebih mudah untuk dipelihara dan dikembangkan      | Lebih sulit untuk membuat abstraksi dari kenyataan   | \n",
        "| Fokus pada efisiensi dan performa, terutama untuk aplikasi dengan load tinggi      | Konsep yang sederhana dapat membatasi solusi untuk masalah yang lebih kompleks | \n",
        "| Lebih mudah untuk menentukan kondisi dalam pengembangan aplikasi parallel      | Kurang cocok untuk pengembangan aplikasi besar dan kompleks | \n"
      ],
      "metadata": {
        "id": "P1KNK_3FYfG0"
      }
    },
    {
      "cell_type": "markdown",
      "source": [
        "# 3. Jelaskan menggunakan tabel mengenai kelebihan dan kekurangan paradigma procedural dibandingkan dengan functional (minimal 3) !"
      ],
      "metadata": {
        "id": "sRCIdXDIdXQO"
      }
    },
    {
      "cell_type": "markdown",
      "source": [
        "| Kelebihan Paradigma Procedural | Kekurangan Paradigma Procedural   | \n",
        "| ------ | --- | \n",
        "| Lebih mudah dipahami dan dipelajari dibandingkan dengan paradigma functional     | Struktur kode bisa menjadi sulit dipelihara dan dikembangkan   | \n",
        "| Lebih fleksibel dan dapat digunakan untuk berbagai jenis masalah      | Lebih fleksibel dan dapat digunakan untuk berbagai jenis masalah   | \n",
        "| Lebih baik untuk pemrograman yang berorientasi pada aksi      | Lebih sulit untuk membuat aplikasi yang dapat diterima oleh beberapa tim pengembang | \n",
        "\n"
      ],
      "metadata": {
        "id": "wVHeMAF1ciXr"
      }
    },
    {
      "cell_type": "markdown",
      "source": [
        "| Kelebihan Paradigma Functional | Kekurangan Paradigma Functional  | \n",
        "| ------ | --- | \n",
        "| Lebih mudah untuk memastikan keamanan dan keandalan kode     | Lebih sulit dipahami dan dipelajari dibandingkan dengan paradigma procedural   | \n",
        "| Lebih mudah untuk membuat aplikasi yang dapat diterima oleh beberapa tim pengembang      | Lebih sulit untuk mengatasi masalah yang berorientasi pada aksi   | \n",
        "| Lebih mudah untuk melakukan testing dan debugging      | Lebih terbatas dalam penerapan dan solusi | \n"
      ],
      "metadata": {
        "id": "VKKqqicNcixx"
      }
    },
    {
      "cell_type": "markdown",
      "source": [
        "# 4. Apa yang dimaksud dengan pure functional programming language?"
      ],
      "metadata": {
        "id": "M02vUkfJdi6L"
      }
    },
    {
      "cell_type": "markdown",
      "source": [
        "Pure functional programming language adalah bahasa pemrograman yang membatasi atau bahkan menghilangkan efek samping dan side-effect dalam kode. Dalam bahasa ini, output dari suatu fungsi hanya tergantung pada input dan tidak ada pengubahan state eksternal. Ini membuat kode lebih mudah diprediksi dan diuji, dan memfasilitasi teknik seperti memoization dan parallelism"
      ],
      "metadata": {
        "id": "qJu7LQpwfIjI"
      }
    },
    {
      "cell_type": "markdown",
      "source": [
        "# 5. Dari bahasa pemrograman FP di slide sebelumnya ( slide 14 ) , manakah yang termasuk pure functional programming language?"
      ],
      "metadata": {
        "id": "Y9JsE4l1dobC"
      }
    },
    {
      "cell_type": "markdown",
      "source": [
        "Contoh bahasa pure functional programming adalah Haskell, Lisp, dan ML."
      ],
      "metadata": {
        "id": "nFgrtXWlZPiY"
      }
    },
    {
      "cell_type": "markdown",
      "source": [
        "# 6. Membuat program Simple Password encryption, dengan ketentuan\n",
        "1. Input password bertipe string dengan batasan panjang password\n",
        "100 karakter\n",
        "2. Setiap karakter dari string tersebut diubah menjadi ASCII value\n",
        "3. Kemudian setiap ASCII value tersebut dikembangkan menjadi 3\n",
        "value dengan dilakukan operasi berikut:\n",
        "  \n",
        "  1. Value pertama dibagi dengan integer 26 kemudian\n",
        "dibulatkan dan dijumlahkan dengan 80 kemudian diubah\n",
        "kembali menjadi karakter\n",
        "  2. Value kedua dihitung sisa bagi dengan 26 kemudian\n",
        "dijumlahkan dengan 80 kemudian diubah kembali menjadi\n",
        "karakter\n",
        "  3. Value ketiga adalah karakter ‘+’ jika value pertama lebih\n",
        "besar dari value kedua, atau value ketiga adalah karakter ‘-’\n",
        "jika value pertama tidak lebih besar dari value kedua\n",
        "  4. Deretkan value pertama, kedua dan ketiga untuk setiap karakter\n",
        "dalam password tersebut sehingga didapatkan password dalam\n",
        "bentuk baru"
      ],
      "metadata": {
        "id": "2r0v1we2e41v"
      }
    },
    {
      "cell_type": "markdown",
      "source": [
        "1. Bantulah user tersebut dengan membuatkan sebuah program yang secara otomatis mengubah password yang di input menjadi terenkripsi sesuai aturan tersebut!\n",
        "2. Apa output yang dihasilkan dari program tersebut jika input password adalah 'anakanakcerdas2020' ?\n"
      ],
      "metadata": {
        "id": "TCD9xhbWfSOR"
      }
    },
    {
      "cell_type": "code",
      "source": [
        "def Enkripsi(pwd):\n",
        "  if len(pwd) > 100 or len(pwd) == 0:\n",
        "    print(\"Masukkan maksimal 100 karakter\")\n",
        "  else:\n",
        "    # merubah setiap karakter menjadi kode ascii dan ditampung dalam list\n",
        "    ascii = [str(ord(n)) for n in pwd]  # ord() mengubah teks menjadi kode ASCII (dalam bentuk integer)\n",
        "\n",
        "    # membagi 3 value \n",
        "    Enkripsi = \"\".join(chr((int(j)//26)+80)+chr((int(j)%26)+80)+(\"+\" if (int(j)//26)+80 > (int(j)%26)+80 else \"-\") for j in ascii)\n",
        "    #chr() untuk membuat karakter dari kode ASCII\n",
        "\n",
        "    # output \n",
        "    print(\"Password Enkripsi: \", Enkripsi)\n",
        "\n",
        "# fungsi dekripsi\n",
        "def dekripsi(pwd):\n",
        "\n",
        "  #bagi menjadi 3 value \n",
        "  bgpw = [(pwd[i:i+3]) for i in range(0, len(pwd), 3)]\n",
        "  # membuat 3 value kembali ke kode ascii lalu ke karakter asli dan menggabungkan semuanya\n",
        "  dekri = ''.join(chr(((ord(list(z)[0])-80)*26)+(ord(list(z)[1])-80)) for z in bgpw) #chr() untuk membuat karakter dari kode ASCII\n",
        "  # menampilkan hasil dekripsi\n",
        "  print(\"The password is: \", dekri)\n",
        "\n",
        "  # enkripsi\n",
        "pwd = input(\"Enter Password: \")\n",
        "Enkripsi(pwd)"
      ],
      "metadata": {
        "id": "bvK_rzdFfko3",
        "colab": {
          "base_uri": "https://localhost:8080/"
        },
        "outputId": "e90d1c75-3db5-40b6-a609-75be1a6805b7"
      },
      "execution_count": 16,
      "outputs": [
        {
          "output_type": "stream",
          "name": "stdout",
          "text": [
            "Enter Password: anakanakcerdas2020\n",
            "Password Enkripsi:  Sc-TV-Sc-TS+Sc-TV-Sc-TS+Se-Sg-TZ-Sf-Sc-T[-Qh-Qf-Qh-Qf-\n"
          ]
        }
      ]
    },
    {
      "cell_type": "markdown",
      "source": [
        "3. (Bonus) User tersebut lupa password asli yang dia inputkan ke dalam program tersebut, password setelah dienkripsi adalah 'Sc-TV-Sc-TS+T[-Sc-TQ+TV-T[-Sf-Sc-T-Sc-Qh-Qf-Qh-Qf-TS+Sg-Se-Sg-'. Bantulah user tersebut mendapatkan password asli nya!"
      ],
      "metadata": {
        "id": "lsEdUZhdffqJ"
      }
    },
    {
      "cell_type": "code",
      "source": [
        "enk = input(\"Masukkan Password Enkripsi: \")\n",
        "dekripsi(enk)"
      ],
      "metadata": {
        "id": "WN2bxjV0fxUY",
        "colab": {
          "base_uri": "https://localhost:8080/"
        },
        "outputId": "11c284f9-ea2c-4ae3-9ab0-c812047d8884"
      },
      "execution_count": 11,
      "outputs": [
        {
          "output_type": "stream",
          "name": "stdout",
          "text": [
            "Masukkan Password Enkripsi: Sc-TV-Sc-TS+T[-Sc-TQ+TV-T[-Sf-Sc-T-Sc-Qh-Qf-Qh-Qf-TS+Sg-Se-Sg-\n",
            "The password is:  anaksainsdaEǋɍșɍș)ȳǿȳ\n"
          ]
        }
      ]
    }
  ]
}